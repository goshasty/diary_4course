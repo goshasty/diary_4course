{
  "nbformat": 4,
  "nbformat_minor": 0,
  "metadata": {
    "colab": {
      "name": "agree_collab.ipynb",
      "provenance": [],
      "collapsed_sections": []
    },
    "kernelspec": {
      "name": "python3",
      "display_name": "Python 3"
    },
    "accelerator": "GPU"
  },
  "cells": [
    {
      "cell_type": "code",
      "metadata": {
        "id": "jXTotnAn-gYu",
        "colab_type": "code",
        "outputId": "5aa96e6f-7694-423f-e7f9-54667689bb01",
        "colab": {
          "base_uri": "https://localhost:8080/",
          "height": 122
        }
      },
      "source": [
        "from google.colab import drive\n",
        "drive.mount('/content/drive')"
      ],
      "execution_count": 1,
      "outputs": [
        {
          "output_type": "stream",
          "text": [
            "Go to this URL in a browser: https://accounts.google.com/o/oauth2/auth?client_id=947318989803-6bn6qk8qdgf4n4g3pfee6491hc0brc4i.apps.googleusercontent.com&redirect_uri=urn%3aietf%3awg%3aoauth%3a2.0%3aoob&response_type=code&scope=email%20https%3a%2f%2fwww.googleapis.com%2fauth%2fdocs.test%20https%3a%2f%2fwww.googleapis.com%2fauth%2fdrive%20https%3a%2f%2fwww.googleapis.com%2fauth%2fdrive.photos.readonly%20https%3a%2f%2fwww.googleapis.com%2fauth%2fpeopleapi.readonly\n",
            "\n",
            "Enter your authorization code:\n",
            "··········\n",
            "Mounted at /content/drive\n"
          ],
          "name": "stdout"
        }
      ]
    },
    {
      "cell_type": "code",
      "metadata": {
        "id": "bI0Lq182YV6n",
        "colab_type": "code",
        "outputId": "7d3883f4-ee8e-4d6c-d840-1af0677169c8",
        "colab": {
          "base_uri": "https://localhost:8080/",
          "height": 836
        }
      },
      "source": [
        "!apt-get update\n",
        "!apt-get install python3-venv\n",
        "!python3 -m venv env_new"
      ],
      "execution_count": 2,
      "outputs": [
        {
          "output_type": "stream",
          "text": [
            "\r0% [Working]\r            \rGet:1 https://cloud.r-project.org/bin/linux/ubuntu bionic-cran35/ InRelease [3,626 B]\n",
            "\r0% [Connecting to archive.ubuntu.com] [Connecting to security.ubuntu.com (91.18\r0% [Connecting to archive.ubuntu.com] [Connecting to security.ubuntu.com (91.18\r0% [1 InRelease gpgv 3,626 B] [Connecting to archive.ubuntu.com] [Connecting to\r                                                                               \rIgn:2 https://developer.download.nvidia.com/compute/cuda/repos/ubuntu1804/x86_64  InRelease\n",
            "\r0% [1 InRelease gpgv 3,626 B] [Connecting to archive.ubuntu.com] [Connecting to\r0% [Connecting to archive.ubuntu.com] [Connecting to security.ubuntu.com (91.18\r                                                                               \rIgn:3 https://developer.download.nvidia.com/compute/machine-learning/repos/ubuntu1804/x86_64  InRelease\n",
            "\r0% [Connecting to archive.ubuntu.com (91.189.88.142)] [Waiting for headers] [Co\r                                                                               \rHit:4 https://developer.download.nvidia.com/compute/cuda/repos/ubuntu1804/x86_64  Release\n",
            "\r0% [Connecting to archive.ubuntu.com (91.189.88.142)] [Waiting for headers] [Co\r0% [Release.gpg gpgv 564 B] [Connecting to archive.ubuntu.com (91.189.88.142)] \r                                                                               \rHit:5 https://developer.download.nvidia.com/compute/machine-learning/repos/ubuntu1804/x86_64  Release\n",
            "\r0% [Release.gpg gpgv 564 B] [Connecting to archive.ubuntu.com (91.189.88.142)] \r0% [Connecting to archive.ubuntu.com (91.189.88.152)] [Waiting for headers] [Co\r                                                                               \rGet:7 http://security.ubuntu.com/ubuntu bionic-security InRelease [88.7 kB]\n",
            "\r0% [Connecting to archive.ubuntu.com (91.189.88.152)] [7 InRelease 2,589 B/88.7\r0% [Release.gpg gpgv 564 B] [Connecting to archive.ubuntu.com (91.189.88.152)] \r0% [Waiting for headers] [7 InRelease 14.2 kB/88.7 kB 16%] [Waiting for headers\r                                                                               \rHit:9 http://archive.ubuntu.com/ubuntu bionic InRelease\n",
            "\r                                                                               \r0% [7 InRelease 17.1 kB/88.7 kB 19%] [Waiting for headers]\r                                                          \rHit:10 http://ppa.launchpad.net/graphics-drivers/ppa/ubuntu bionic InRelease\n",
            "Get:11 http://archive.ubuntu.com/ubuntu bionic-updates InRelease [88.7 kB]\n",
            "Get:12 http://ppa.launchpad.net/marutter/c2d4u3.5/ubuntu bionic InRelease [15.4 kB]\n",
            "Get:13 http://security.ubuntu.com/ubuntu bionic-security/universe amd64 Packages [844 kB]\n",
            "Get:14 http://archive.ubuntu.com/ubuntu bionic-backports InRelease [74.6 kB]\n",
            "Get:15 http://ppa.launchpad.net/marutter/c2d4u3.5/ubuntu bionic/main Sources [1,815 kB]\n",
            "Get:16 http://archive.ubuntu.com/ubuntu bionic-updates/universe amd64 Packages [1,376 kB]\n",
            "Get:17 http://security.ubuntu.com/ubuntu bionic-security/main amd64 Packages [908 kB]\n",
            "Get:18 http://archive.ubuntu.com/ubuntu bionic-updates/main amd64 Packages [1,205 kB]\n",
            "Get:19 http://ppa.launchpad.net/marutter/c2d4u3.5/ubuntu bionic/main amd64 Packages [876 kB]\n",
            "Fetched 7,295 kB in 7s (1,045 kB/s)\n",
            "Reading package lists... Done\n",
            "Reading package lists... Done\n",
            "Building dependency tree       \n",
            "Reading state information... Done\n",
            "The following additional packages will be installed:\n",
            "  python-pip-whl python3.6-venv\n",
            "The following NEW packages will be installed:\n",
            "  python-pip-whl python3-venv python3.6-venv\n",
            "0 upgraded, 3 newly installed, 0 to remove and 44 not upgraded.\n",
            "Need to get 1,660 kB of archives.\n",
            "After this operation, 1,901 kB of additional disk space will be used.\n",
            "Get:1 http://archive.ubuntu.com/ubuntu bionic-updates/universe amd64 python-pip-whl all 9.0.1-2.3~ubuntu1.18.04.1 [1,653 kB]\n",
            "Get:2 http://archive.ubuntu.com/ubuntu bionic-updates/universe amd64 python3.6-venv amd64 3.6.9-1~18.04ubuntu1 [6,188 B]\n",
            "Get:3 http://archive.ubuntu.com/ubuntu bionic-updates/universe amd64 python3-venv amd64 3.6.7-1~18.04 [1,208 B]\n",
            "Fetched 1,660 kB in 3s (563 kB/s)\n",
            "Selecting previously unselected package python-pip-whl.\n",
            "(Reading database ... 144429 files and directories currently installed.)\n",
            "Preparing to unpack .../python-pip-whl_9.0.1-2.3~ubuntu1.18.04.1_all.deb ...\n",
            "Unpacking python-pip-whl (9.0.1-2.3~ubuntu1.18.04.1) ...\n",
            "Selecting previously unselected package python3.6-venv.\n",
            "Preparing to unpack .../python3.6-venv_3.6.9-1~18.04ubuntu1_amd64.deb ...\n",
            "Unpacking python3.6-venv (3.6.9-1~18.04ubuntu1) ...\n",
            "Selecting previously unselected package python3-venv.\n",
            "Preparing to unpack .../python3-venv_3.6.7-1~18.04_amd64.deb ...\n",
            "Unpacking python3-venv (3.6.7-1~18.04) ...\n",
            "Setting up python-pip-whl (9.0.1-2.3~ubuntu1.18.04.1) ...\n",
            "Setting up python3.6-venv (3.6.9-1~18.04ubuntu1) ...\n",
            "Setting up python3-venv (3.6.7-1~18.04) ...\n",
            "Processing triggers for man-db (2.8.3-2ubuntu0.1) ...\n"
          ],
          "name": "stdout"
        }
      ]
    },
    {
      "cell_type": "code",
      "metadata": {
        "id": "fkHhkRdJYbSX",
        "colab_type": "code",
        "colab": {}
      },
      "source": [
        "import os\n",
        "path = os.path.join('drive', 'My Drive', ' torch-0.3.0.whl')"
      ],
      "execution_count": 0,
      "outputs": []
    },
    {
      "cell_type": "code",
      "metadata": {
        "id": "NgbNuC_nYlD-",
        "colab_type": "code",
        "colab": {}
      },
      "source": [
        "!cp drive/My\\ Drive/torch-0.3.0.whl env_new/"
      ],
      "execution_count": 0,
      "outputs": []
    },
    {
      "cell_type": "code",
      "metadata": {
        "id": "vQapIxC-a-83",
        "colab_type": "code",
        "colab": {}
      },
      "source": [
        "os.chdir('env_new')"
      ],
      "execution_count": 0,
      "outputs": []
    },
    {
      "cell_type": "code",
      "metadata": {
        "id": "GOUoVVHyZ67A",
        "colab_type": "code",
        "colab": {}
      },
      "source": [
        "!source bin/activate"
      ],
      "execution_count": 0,
      "outputs": []
    },
    {
      "cell_type": "code",
      "metadata": {
        "id": "crEM-9Wxb5YP",
        "colab_type": "code",
        "colab": {}
      },
      "source": [
        "!mv torch-0.3.0.whl torch-0.3.0.post4-cp36-cp36m-linux_x86_64.whl"
      ],
      "execution_count": 0,
      "outputs": []
    },
    {
      "cell_type": "code",
      "metadata": {
        "id": "NPQJHhHiaBMb",
        "colab_type": "code",
        "outputId": "f97a4fff-2615-46ea-d993-196569bcf0ae",
        "colab": {
          "base_uri": "https://localhost:8080/",
          "height": 187
        }
      },
      "source": [
        "!pip3 install torch-0.3.0.post4-cp36-cp36m-linux_x86_64.whl"
      ],
      "execution_count": 8,
      "outputs": [
        {
          "output_type": "stream",
          "text": [
            "Processing ./torch-0.3.0.post4-cp36-cp36m-linux_x86_64.whl\n",
            "Requirement already satisfied: pyyaml in /usr/local/lib/python3.6/dist-packages (from torch==0.3.0.post4) (3.13)\n",
            "Requirement already satisfied: numpy in /usr/local/lib/python3.6/dist-packages (from torch==0.3.0.post4) (1.18.4)\n",
            "\u001b[31mERROR: torchvision 0.6.0+cu101 has requirement torch==1.5.0, but you'll have torch 0.3.0.post4 which is incompatible.\u001b[0m\n",
            "\u001b[31mERROR: fastai 1.0.61 has requirement torch>=1.0.0, but you'll have torch 0.3.0.post4 which is incompatible.\u001b[0m\n",
            "Installing collected packages: torch\n",
            "  Found existing installation: torch 1.5.0+cu101\n",
            "    Uninstalling torch-1.5.0+cu101:\n",
            "      Successfully uninstalled torch-1.5.0+cu101\n",
            "Successfully installed torch-0.3.0.post4\n"
          ],
          "name": "stdout"
        }
      ]
    },
    {
      "cell_type": "code",
      "metadata": {
        "id": "1zmKbp8iIv6Y",
        "colab_type": "code",
        "colab": {}
      },
      "source": [
        "import sys\n",
        "sys.path.insert(1, os.path.join('drive','My Drive','Attentive_Group_Recommendation_master'))"
      ],
      "execution_count": 0,
      "outputs": []
    },
    {
      "cell_type": "code",
      "metadata": {
        "id": "bw0sAEN3caHI",
        "colab_type": "code",
        "outputId": "e455931c-2b7a-467d-e55f-01867830a5f2",
        "colab": {
          "base_uri": "https://localhost:8080/",
          "height": 85
        }
      },
      "source": [
        "#!git clone https://github.com/LianHaiMiao/Attentive-Group-Recommendation.git"
      ],
      "execution_count": 0,
      "outputs": [
        {
          "output_type": "stream",
          "text": [
            "Cloning into 'Attentive-Group-Recommendation'...\n",
            "remote: Enumerating objects: 45, done.\u001b[K\n",
            "remote: Total 45 (delta 0), reused 0 (delta 0), pack-reused 45\u001b[K\n",
            "Unpacking objects: 100% (45/45), done.\n"
          ],
          "name": "stdout"
        }
      ]
    },
    {
      "cell_type": "code",
      "metadata": {
        "id": "vqOE1vKDKVys",
        "colab_type": "code",
        "colab": {}
      },
      "source": [
        "os.chdir('..')"
      ],
      "execution_count": 0,
      "outputs": []
    },
    {
      "cell_type": "code",
      "metadata": {
        "id": "wpshPp2dKjoc",
        "colab_type": "code",
        "outputId": "e7196988-259c-4973-a25e-116e5aac81ca",
        "colab": {
          "base_uri": "https://localhost:8080/",
          "height": 34
        }
      },
      "source": [
        "!ls"
      ],
      "execution_count": 11,
      "outputs": [
        {
          "output_type": "stream",
          "text": [
            "drive  env_new\tsample_data\n"
          ],
          "name": "stdout"
        }
      ]
    },
    {
      "cell_type": "code",
      "metadata": {
        "id": "c6WEv2NXclRI",
        "colab_type": "code",
        "colab": {}
      },
      "source": [
        "os.chdir(os.path.join('drive','My Drive','Attentive_Group_Recommendation_master'))"
      ],
      "execution_count": 0,
      "outputs": []
    },
    {
      "cell_type": "code",
      "metadata": {
        "id": "29GBEh49QbhP",
        "colab_type": "code",
        "colab": {}
      },
      "source": [
        "import torch"
      ],
      "execution_count": 0,
      "outputs": []
    },
    {
      "cell_type": "code",
      "metadata": {
        "id": "Y7XQLxUwculS",
        "colab_type": "code",
        "outputId": "1826cf5e-d078-4fa9-b65e-9f4f0ab35e25",
        "colab": {
          "base_uri": "https://localhost:8080/",
          "height": 765
        }
      },
      "source": [
        " !python3 main.py"
      ],
      "execution_count": 0,
      "outputs": [
        {
          "output_type": "stream",
          "text": [
            "AGREE at embedding size 64, run Iteration:7, RMSE, MAE\n",
            "Iteration 0, loss is [12.8107 ]\n",
            "Iteration 0, loss is [13.1773 ]\n",
            "User Iteration 0 [139.7 s]: \n",
            " RMSE = 3.3824 (6.6176), MAE = 3.1371 (6.8629)\n",
            "Group Iteration 0 [139.7 s]: \n",
            " RMSE = 3.4826 (6.5174), MAE = 3.1800 (6.8200)\n",
            "Iteration 1, loss is [9.5810 ]\n",
            "Iteration 1, loss is [8.5285 ]\n",
            "User Iteration 1 [137.4 s]: \n",
            " RMSE = 2.9862 (0.3962), MAE = 2.7353 (0.4019)\n",
            "Group Iteration 1 [137.4 s]: \n",
            " RMSE = 2.8647 (0.6178), MAE = 2.5569 (0.6231)\n",
            "Iteration 2, loss is [7.4198 ]\n",
            "Iteration 2, loss is [5.9261 ]\n",
            "User Iteration 2 [136.0 s]: \n",
            " RMSE = 2.6316 (0.3546), MAE = 2.3670 (0.3683)\n",
            "Group Iteration 2 [136.0 s]: \n",
            " RMSE = 2.3936 (0.4712), MAE = 2.0686 (0.4883)\n",
            "Iteration 3, loss is [5.8018 ]\n",
            "Iteration 3, loss is [4.4448 ]\n",
            "User Iteration 3 [136.0 s]: \n",
            " RMSE = 2.3055 (0.3261), MAE = 2.0285 (0.3384)\n",
            "Group Iteration 3 [136.0 s]: \n",
            " RMSE = 2.0061 (0.3874), MAE = 1.6742 (0.3945)\n",
            "Iteration 4, loss is [4.5988 ]\n",
            "Iteration 4, loss is [3.5374 ]\n",
            "User Iteration 4 [137.0 s]: \n",
            " RMSE = 2.0300 (0.2755), MAE = 1.7456 (0.2829)\n",
            "Group Iteration 4 [137.0 s]: \n",
            " RMSE = 1.7129 (0.2932), MAE = 1.3870 (0.2872)\n",
            "Iteration 5, loss is [3.7294 ]\n",
            "Iteration 5, loss is [2.9870 ]\n",
            "User Iteration 5 [136.2 s]: \n",
            " RMSE = 1.8201 (0.2099), MAE = 1.5360 (0.2096)\n",
            "Group Iteration 5 [136.2 s]: \n",
            " RMSE = 1.5076 (0.2053), MAE = 1.1957 (0.1913)\n",
            "Iteration 6, loss is [3.1852 ]\n",
            "Iteration 6, loss is [2.6620 ]\n",
            "User Iteration 6 [137.2 s]: \n",
            " RMSE = 1.6626 (0.1574), MAE = 1.3832 (0.1528)\n",
            "Group Iteration 6 [137.2 s]: \n",
            " RMSE = 1.3662 (0.1414), MAE = 1.0767 (0.1190)\n",
            "Done!\n"
          ],
          "name": "stdout"
        }
      ]
    },
    {
      "cell_type": "code",
      "metadata": {
        "id": "3tDKYjVLGxUo",
        "colab_type": "code",
        "colab": {}
      },
      "source": [
        ""
      ],
      "execution_count": 0,
      "outputs": []
    },
    {
      "cell_type": "code",
      "metadata": {
        "id": "NzwG-Q3TcxIa",
        "colab_type": "code",
        "outputId": "d41fc288-696b-4dd5-c12c-67d2659dfee0",
        "colab": {
          "base_uri": "https://localhost:8080/",
          "height": 1000
        }
      },
      "source": [
        " !python3 main.py"
      ],
      "execution_count": 0,
      "outputs": [
        {
          "output_type": "stream",
          "text": [
            "AGREE at embedding size 64, run Iteration:25, RMSE, MAE\n",
            "Iteration 0, loss is [7.9869 ]\n",
            "Iteration 0, loss is [5.1042 ]\n",
            "User Iteration 0 [140.5 s]: \n",
            " RMSE = 2.3092 (7.6908), MAE = 2.0605 (7.9395)\n",
            "Group Iteration 0 [140.5 s]: \n",
            " RMSE = 1.9481 (8.0519), MAE = 1.6526 (8.3474)\n",
            "Iteration 1, loss is [3.9650 ]\n",
            "Iteration 1, loss is [2.3582 ]\n",
            "User Iteration 1 [141.8 s]: \n",
            " RMSE = 1.7470 (0.5621), MAE = 1.4977 (0.5628)\n",
            "Group Iteration 1 [141.8 s]: \n",
            " RMSE = 1.3269 (0.6211), MAE = 1.0641 (0.5885)\n",
            "Iteration 2, loss is [2.5131 ]\n",
            "Iteration 2, loss is [1.8704 ]\n",
            "User Iteration 2 [140.9 s]: \n",
            " RMSE = 1.4752 (0.2719), MAE = 1.2364 (0.2613)\n",
            "Group Iteration 2 [140.9 s]: \n",
            " RMSE = 1.1390 (0.1880), MAE = 0.8917 (0.1724)\n",
            "Iteration 3, loss is [1.9940 ]\n",
            "Iteration 3, loss is [1.6877 ]\n",
            "User Iteration 3 [142.2 s]: \n",
            " RMSE = 1.3277 (0.1475), MAE = 1.0966 (0.1398)\n",
            "Group Iteration 3 [142.2 s]: \n",
            " RMSE = 1.0829 (0.0560), MAE = 0.8387 (0.0530)\n",
            "Iteration 4, loss is [1.7461 ]\n",
            "Iteration 4, loss is [1.5932 ]\n",
            "User Iteration 4 [142.9 s]: \n",
            " RMSE = 1.2332 (0.0945), MAE = 1.0060 (0.0906)\n",
            "Group Iteration 4 [142.9 s]: \n",
            " RMSE = 1.0643 (0.0187), MAE = 0.8216 (0.0170)\n",
            "Iteration 5, loss is [1.5882 ]\n",
            "Iteration 5, loss is [1.5003 ]\n",
            "User Iteration 5 [143.5 s]: \n",
            " RMSE = 1.1677 (0.0655), MAE = 0.9420 (0.0640)\n",
            "Group Iteration 5 [143.5 s]: \n",
            " RMSE = 1.0575 (0.0068), MAE = 0.8165 (0.0051)\n",
            "Iteration 6, loss is [1.4853 ]\n",
            "Iteration 6, loss is [1.4499 ]\n",
            "User Iteration 6 [143.2 s]: \n",
            " RMSE = 1.1187 (0.0490), MAE = 0.8938 (0.0482)\n",
            "Group Iteration 6 [143.2 s]: \n",
            " RMSE = 1.0536 (0.0038), MAE = 0.8117 (0.0048)\n",
            "Iteration 7, loss is [1.4118 ]\n",
            "Iteration 7, loss is [1.4042 ]\n",
            "User Iteration 7 [143.8 s]: \n",
            " RMSE = 1.0857 (0.0331), MAE = 0.8606 (0.0332)\n",
            "Group Iteration 7 [143.8 s]: \n",
            " RMSE = 1.0497 (0.0040), MAE = 0.8068 (0.0049)\n",
            "Iteration 8, loss is [1.3534 ]\n",
            "Iteration 8, loss is [1.3488 ]\n",
            "User Iteration 8 [143.3 s]: \n",
            " RMSE = 1.0609 (0.0248), MAE = 0.8348 (0.0258)\n",
            "Group Iteration 8 [143.3 s]: \n",
            " RMSE = 1.0473 (0.0024), MAE = 0.8041 (0.0027)\n",
            "Iteration 9, loss is [1.3100 ]\n",
            "Iteration 9, loss is [1.3251 ]\n",
            "User Iteration 9 [142.6 s]: \n",
            " RMSE = 1.0421 (0.0188), MAE = 0.8155 (0.0193)\n",
            "Group Iteration 9 [142.6 s]: \n",
            " RMSE = 1.0444 (0.0029), MAE = 0.8008 (0.0033)\n",
            "Iteration 10, loss is [1.2744 ]\n",
            "Iteration 10, loss is [1.2989 ]\n",
            "User Iteration 10 [142.5 s]: \n",
            " RMSE = 1.0277 (0.0144), MAE = 0.8011 (0.0144)\n",
            "Group Iteration 10 [142.5 s]: \n",
            " RMSE = 1.0412 (0.0032), MAE = 0.7977 (0.0031)\n",
            "Iteration 11, loss is [1.2545 ]\n",
            "Iteration 11, loss is [1.2649 ]\n",
            "User Iteration 11 [141.4 s]: \n",
            " RMSE = 1.0192 (0.0085), MAE = 0.7918 (0.0093)\n",
            "Group Iteration 11 [141.4 s]: \n",
            " RMSE = 1.0416 (-0.0005), MAE = 0.7972 (0.0006)\n",
            "Iteration 12, loss is [1.2236 ]\n",
            "Iteration 12, loss is [1.2430 ]\n",
            "User Iteration 12 [142.5 s]: \n",
            " RMSE = 1.0110 (0.0081), MAE = 0.7843 (0.0075)\n",
            "Group Iteration 12 [142.5 s]: \n",
            " RMSE = 1.0399 (0.0017), MAE = 0.7982 (-0.0010)\n",
            "Iteration 13, loss is [1.2029 ]\n",
            "Iteration 13, loss is [1.2218 ]\n",
            "User Iteration 13 [144.8 s]: \n",
            " RMSE = 1.0046 (0.0064), MAE = 0.7774 (0.0069)\n",
            "Group Iteration 13 [144.8 s]: \n",
            " RMSE = 1.0396 (0.0003), MAE = 0.7970 (0.0012)\n",
            "Iteration 14, loss is [1.1765 ]\n",
            "Iteration 14, loss is [1.2096 ]\n",
            "User Iteration 14 [143.0 s]: \n",
            " RMSE = 0.9986 (0.0060), MAE = 0.7706 (0.0069)\n",
            "Group Iteration 14 [143.0 s]: \n",
            " RMSE = 1.0388 (0.0008), MAE = 0.7959 (0.0011)\n",
            "Iteration 15, loss is [1.1585 ]\n",
            "Iteration 15, loss is [1.1954 ]\n",
            "User Iteration 15 [143.5 s]: \n",
            " RMSE = 0.9960 (0.0026), MAE = 0.7677 (0.0029)\n",
            "Group Iteration 15 [143.5 s]: \n",
            " RMSE = 1.0382 (0.0006), MAE = 0.7954 (0.0006)\n",
            "Iteration 16, loss is [1.1578 ]\n",
            "Iteration 16, loss is [1.1800 ]\n",
            "User Iteration 16 [143.5 s]: \n",
            " RMSE = 0.9935 (0.0025), MAE = 0.7649 (0.0028)\n",
            "Group Iteration 16 [143.5 s]: \n",
            " RMSE = 1.0372 (0.0010), MAE = 0.7946 (0.0008)\n",
            "Iteration 17, loss is [1.1452 ]\n",
            "Iteration 17, loss is [1.1728 ]\n",
            "User Iteration 17 [143.5 s]: \n",
            " RMSE = 0.9916 (0.0019), MAE = 0.7621 (0.0027)\n",
            "Group Iteration 17 [143.5 s]: \n",
            " RMSE = 1.0371 (0.0002), MAE = 0.7939 (0.0007)\n",
            "Iteration 18, loss is [1.1313 ]\n",
            "Iteration 18, loss is [1.1737 ]\n",
            "User Iteration 18 [142.9 s]: \n",
            " RMSE = 0.9903 (0.0013), MAE = 0.7603 (0.0019)\n",
            "Group Iteration 18 [142.9 s]: \n",
            " RMSE = 1.0369 (0.0001), MAE = 0.7939 (-0.0001)\n",
            "Iteration 19, loss is [1.1264 ]\n",
            "Iteration 19, loss is [1.1661 ]\n",
            "User Iteration 19 [141.9 s]: \n",
            " RMSE = 0.9885 (0.0018), MAE = 0.7581 (0.0022)\n",
            "Group Iteration 19 [141.9 s]: \n",
            " RMSE = 1.0355 (0.0015), MAE = 0.7922 (0.0017)\n",
            "Iteration 20, loss is [1.1214 ]\n",
            "Iteration 20, loss is [1.1597 ]\n",
            "User Iteration 20 [143.3 s]: \n",
            " RMSE = 0.9876 (0.0009), MAE = 0.7567 (0.0013)\n",
            "Group Iteration 20 [143.3 s]: \n",
            " RMSE = 1.0352 (0.0003), MAE = 0.7919 (0.0003)\n",
            "Iteration 21, loss is [1.1160 ]\n",
            "Iteration 21, loss is [1.1527 ]\n",
            "User Iteration 21 [141.9 s]: \n",
            " RMSE = 0.9870 (0.0006), MAE = 0.7556 (0.0011)\n",
            "Group Iteration 21 [141.9 s]: \n",
            " RMSE = 1.0355 (-0.0003), MAE = 0.7916 (0.0003)\n",
            "Iteration 22, loss is [1.1170 ]\n",
            "Iteration 22, loss is [1.1569 ]\n",
            "User Iteration 22 [141.5 s]: \n",
            " RMSE = 0.9869 (0.0001), MAE = 0.7555 (0.0002)\n",
            "Group Iteration 22 [141.5 s]: \n",
            " RMSE = 1.0359 (-0.0004), MAE = 0.7919 (-0.0004)\n",
            "Iteration 23, loss is [1.1076 ]\n",
            "Iteration 23, loss is [1.1526 ]\n",
            "User Iteration 23 [141.2 s]: \n",
            " RMSE = 0.9865 (0.0005), MAE = 0.7549 (0.0006)\n",
            "Group Iteration 23 [141.2 s]: \n",
            " RMSE = 1.0362 (-0.0003), MAE = 0.7918 (0.0001)\n",
            "Iteration 24, loss is [1.1048 ]\n",
            "Iteration 24, loss is [1.1469 ]\n",
            "User Iteration 24 [141.8 s]: \n",
            " RMSE = 0.9860 (0.0004), MAE = 0.7542 (0.0007)\n",
            "Group Iteration 24 [141.8 s]: \n",
            " RMSE = 1.0367 (-0.0005), MAE = 0.7920 (-0.0002)\n",
            "Done!\n"
          ],
          "name": "stdout"
        }
      ]
    },
    {
      "cell_type": "code",
      "metadata": {
        "id": "kOFw_l3BymmQ",
        "colab_type": "code",
        "colab": {}
      },
      "source": [
        " !python3 main.py"
      ],
      "execution_count": 0,
      "outputs": []
    },
    {
      "cell_type": "code",
      "metadata": {
        "id": "IyUeLXu2KgU4",
        "colab_type": "code",
        "colab": {}
      },
      "source": [
        "import numpy as np"
      ],
      "execution_count": 0,
      "outputs": []
    },
    {
      "cell_type": "code",
      "metadata": {
        "id": "7yKyeUZ9KVqV",
        "colab_type": "code",
        "colab": {}
      },
      "source": [
        "mylist = [np.array([3, 5]), np.array([0])]"
      ],
      "execution_count": 0,
      "outputs": []
    },
    {
      "cell_type": "code",
      "metadata": {
        "id": "eYbDZ7UdIzMp",
        "colab_type": "code",
        "colab": {}
      },
      "source": [
        "import pickle\n",
        "with open('parrot.pkl', 'wb') as f:\n",
        "    pickle.dump(mylist, f)"
      ],
      "execution_count": 0,
      "outputs": []
    },
    {
      "cell_type": "code",
      "metadata": {
        "id": "H3n8oPDlKjPl",
        "colab_type": "code",
        "colab": {
          "base_uri": "https://localhost:8080/",
          "height": 34
        },
        "outputId": "7effd713-edb5-4af7-9915-dc3e5fcdc234"
      },
      "source": [
        "with open('parrot.pkl', 'rb') as f:\n",
        "    print(pickle.load(f))"
      ],
      "execution_count": 20,
      "outputs": [
        {
          "output_type": "stream",
          "text": [
            "[array([3, 5]), array([0])]\n"
          ],
          "name": "stdout"
        }
      ]
    },
    {
      "cell_type": "code",
      "metadata": {
        "id": "fACLtgQNKl4l",
        "colab_type": "code",
        "colab": {}
      },
      "source": [
        ""
      ],
      "execution_count": 0,
      "outputs": []
    }
  ]
}