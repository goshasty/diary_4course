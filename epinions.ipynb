{
 "cells": [
  {
   "cell_type": "code",
   "execution_count": 17,
   "metadata": {},
   "outputs": [],
   "source": [
    "import numpy as np\n",
    "from scipy.io import loadmat  # this is the SciPy module that loads mat-files\n",
    "import matplotlib.pyplot as plt\n",
    "from datetime import datetime, date, time\n",
    "import pandas as pd\n"
   ]
  },
  {
   "cell_type": "code",
   "execution_count": 18,
   "metadata": {},
   "outputs": [],
   "source": [
    "from party_code.GraphRec_WWW19_master.Attention import Attention"
   ]
  },
  {
   "cell_type": "code",
   "execution_count": 19,
   "metadata": {},
   "outputs": [],
   "source": [
    "from Attention import Attention"
   ]
  },
  {
   "cell_type": "code",
   "execution_count": 20,
   "metadata": {},
   "outputs": [],
   "source": [
    "import sys\n",
    "import os"
   ]
  },
  {
   "cell_type": "code",
   "execution_count": 21,
   "metadata": {},
   "outputs": [],
   "source": [
    "sys.path.append(os.path.join('party_code', 'GraphRec_WWW19_master'))"
   ]
  },
  {
   "cell_type": "code",
   "execution_count": 22,
   "metadata": {},
   "outputs": [],
   "source": [
    "import torch\n",
    "import torch.nn as nn\n",
    "from torch.nn import init\n",
    "from torch.autograd import Variable\n",
    "import pickle\n",
    "import numpy as np\n",
    "import time\n",
    "import random\n",
    "from collections import defaultdict\n",
    "from UV_Encoders import UV_Encoder\n",
    "from UV_Aggregators import UV_Aggregator\n",
    "from Social_Encoders import Social_Encoder\n",
    "from Social_Aggregators import Social_Aggregator\n",
    "import torch.nn.functional as F\n",
    "import torch.utils.data\n",
    "from sklearn.metrics import mean_squared_error\n",
    "from sklearn.metrics import mean_absolute_error\n",
    "from math import sqrt\n",
    "import datetime\n",
    "import argparse\n",
    "import os\n",
    "from time import time\n",
    "\n",
    "from sklearn.preprocessing import LabelEncoder\n"
   ]
  },
  {
   "cell_type": "code",
   "execution_count": 3,
   "metadata": {},
   "outputs": [
    {
     "data": {
      "text/plain": [
       "\"\\n## toy dataset \\nhistory_u_lists, history_ur_lists:  user's purchased history (item set in training set), and his/her rating score (dict)\\nhistory_v_lists, history_vr_lists:  user set (in training set) who have interacted with the item, and rating score (dict)\\n\\ntrain_u, train_v, train_r: training_set (user, item, rating)\\ntest_u, test_v, test_r: testing set (user, item, rating)\\n\\n# please add the validation set\\n\\nsocial_adj_lists: user's connected neighborhoods\\nratings_list: rating value from 0.5 to 4.0 (8 opinion embeddings)\\n\""
      ]
     },
     "execution_count": 3,
     "metadata": {},
     "output_type": "execute_result"
    }
   ],
   "source": [
    "\"\"\"\n",
    "## toy dataset \n",
    "history_u_lists, history_ur_lists:  user's purchased history (item set in training set), and his/her rating score (dict)\n",
    "history_v_lists, history_vr_lists:  user set (in training set) who have interacted with the item, and rating score (dict)\n",
    "\n",
    "train_u, train_v, train_r: training_set (user, item, rating)\n",
    "test_u, test_v, test_r: testing set (user, item, rating)\n",
    "\n",
    "# please add the validation set\n",
    "\n",
    "social_adj_lists: user's connected neighborhoods\n",
    "ratings_list: rating value from 0.5 to 4.0 (8 opinion embeddings)\n",
    "\"\"\""
   ]
  },
  {
   "cell_type": "code",
   "execution_count": 23,
   "metadata": {},
   "outputs": [],
   "source": [
    "dir_data = './data/toy_dataset'\n",
    "\n",
    "path_data = dir_data + \".pickle\"\n",
    "data_file = open(path_data, 'rb')\n",
    "history_u_lists_, history_ur_lists_, history_v_lists_, history_vr_lists_, train_u_, train_v_, train_r_, test_u_, test_v_, test_r_, social_adj_lists_, ratings_list_ = pickle.load(\n",
    "    data_file)"
   ]
  },
  {
   "cell_type": "code",
   "execution_count": 24,
   "metadata": {},
   "outputs": [],
   "source": [
    "mat = loadmat('datasets/rating.mat')  # load mat-file\n",
    "mdata = mat['rating']  # variable in mat file\n"
   ]
  },
  {
   "cell_type": "code",
   "execution_count": 25,
   "metadata": {},
   "outputs": [],
   "source": [
    "mat_net = loadmat('datasets/trustnetwork.mat')  # load mat-file\n",
    "mnet = mat_net['trustnetwork']  # variable in mat file\n"
   ]
  },
  {
   "cell_type": "code",
   "execution_count": 26,
   "metadata": {},
   "outputs": [],
   "source": [
    "mnet = mnet[~((mnet[:,0] == 21354) +  (mnet[:,1] == 21354))]\n",
    "mnet_un = np.unique(np.r_[mnet[:,0], mnet[:,1]])"
   ]
  },
  {
   "cell_type": "code",
   "execution_count": 27,
   "metadata": {},
   "outputs": [],
   "source": [
    "fr_mask = np.isin(mdata[:,0], mnet_un)\n",
    "mdata = mdata[fr_mask]"
   ]
  },
  {
   "cell_type": "code",
   "execution_count": 28,
   "metadata": {},
   "outputs": [],
   "source": [
    "user_encoder = LabelEncoder()\n",
    "mdata[:, 0] = user_encoder.fit_transform(mdata[:, 0])\n",
    "fr1 = user_encoder.transform(mnet[:,0])\n",
    "fr2 = user_encoder.transform(mnet[:,1])"
   ]
  },
  {
   "cell_type": "code",
   "execution_count": 29,
   "metadata": {},
   "outputs": [],
   "source": [
    "item_encoder = LabelEncoder()\n",
    "mdata[:, 1] = item_encoder.fit_transform(mdata[:, 1])"
   ]
  },
  {
   "cell_type": "code",
   "execution_count": 30,
   "metadata": {},
   "outputs": [],
   "source": [
    "mdata[:,3] -= 1"
   ]
  },
  {
   "cell_type": "code",
   "execution_count": 31,
   "metadata": {},
   "outputs": [
    {
     "data": {
      "text/plain": [
       "0.8164305693404313"
      ]
     },
     "execution_count": 31,
     "metadata": {},
     "output_type": "execute_result"
    }
   ],
   "source": [
    "social_adj_lists = defaultdict(set)\n",
    "for pair in zip(fr1, fr2):\n",
    "    social_adj_lists[pair[0]].add(pair[1])\n",
    "    social_adj_lists[pair[1]].add(pair[0])\n",
    "\n",
    "len(list(social_adj_lists.keys())) / np.max(user_encoder.classes_)"
   ]
  },
  {
   "cell_type": "code",
   "execution_count": 32,
   "metadata": {},
   "outputs": [
    {
     "name": "stdout",
     "output_type": "stream",
     "text": [
      "0\n",
      "50000\n",
      "100000\n",
      "150000\n",
      "200000\n",
      "250000\n",
      "300000\n",
      "350000\n",
      "400000\n",
      "450000\n",
      "500000\n",
      "550000\n",
      "600000\n",
      "650000\n",
      "700000\n",
      "750000\n"
     ]
    }
   ],
   "source": [
    "history_u_lists = defaultdict(list)\n",
    "history_ur_lists = defaultdict(list)\n",
    "history_v_lists = defaultdict(list)\n",
    "history_vr_lists = defaultdict(list)\n",
    "\n",
    "for i, record in enumerate(mdata):\n",
    "    user, item, cat, rating = record\n",
    "    history_u_lists[user].append(item)\n",
    "    \n",
    "    history_ur_lists[user].append(rating)\n",
    "    \n",
    "    history_v_lists[item].append(user)\n",
    "    \n",
    "    history_vr_lists[item].append(rating)\n",
    "    \n",
    "    if i%50000 == 0:\n",
    "        print(i)\n",
    "    \n",
    "   "
   ]
  },
  {
   "cell_type": "code",
   "execution_count": 33,
   "metadata": {},
   "outputs": [],
   "source": [
    "num_rec = mdata.shape[0] \n",
    "item_un = np.unique(mdata[:,1], return_index=True)[1]\n",
    "user_un = np.unique(mdata[:,0], return_index=True)[1]"
   ]
  },
  {
   "cell_type": "code",
   "execution_count": 34,
   "metadata": {},
   "outputs": [],
   "source": [
    "tr_frac = 0.8\n",
    "uniq_rec = np.union1d(item_un, user_un)\n",
    "available_rec = np.setdiff1d(np.arange(num_rec), uniq_rec)\n",
    "available_rec_tr_num = int(num_rec*(tr_frac - len(uniq_rec)/num_rec))\n",
    "train_ind = np.random.choice(available_rec, size=available_rec_tr_num, replace=False)\n",
    "train_ind = np.union1d(train_ind, uniq_rec)\n",
    "\n",
    "test_ind = ~np.isin(np.arange(num_rec), train_ind)"
   ]
  },
  {
   "cell_type": "code",
   "execution_count": 35,
   "metadata": {},
   "outputs": [],
   "source": [
    "train_u, train_v, train_r = [], [], []\n",
    "for record in mdata[train_ind]:\n",
    "    user, item, cat, rat = record\n",
    "    \n",
    "    train_u.append(user)\n",
    "    train_v.append(item)\n",
    "    train_r.append(rat)                "
   ]
  },
  {
   "cell_type": "code",
   "execution_count": 36,
   "metadata": {},
   "outputs": [],
   "source": [
    "test_u, test_v, test_r = [], [], []\n",
    "for record in mdata[test_ind]:\n",
    "    user, item, cat, rat = record\n",
    "    test_u.append(user)\n",
    "    test_v.append(item)\n",
    "    test_r.append(rat)        "
   ]
  },
  {
   "cell_type": "code",
   "execution_count": 37,
   "metadata": {},
   "outputs": [],
   "source": [
    "ratings_list = {i: i-1 for i in range(1,6)}"
   ]
  },
  {
   "cell_type": "code",
   "execution_count": 38,
   "metadata": {},
   "outputs": [],
   "source": [
    "\"\"\"\n",
    "GraphRec: Graph Neural Networks for Social Recommendation. \n",
    "Wenqi Fan, Yao Ma, Qing Li, Yuan He, Eric Zhao, Jiliang Tang, and Dawei Yin. \n",
    "In Proceedings of the 28th International Conference on World Wide Web (WWW), 2019. Preprint[https://arxiv.org/abs/1902.07243]\n",
    "If you use this code, please cite our paper:\n",
    "```\n",
    "@inproceedings{fan2019graph,\n",
    "  title={Graph Neural Networks for Social Recommendation},\n",
    "  author={Fan, Wenqi and Ma, Yao and Li, Qing and He, Yuan and Zhao, Eric and Tang, Jiliang and Yin, Dawei},\n",
    "  booktitle={WWW},\n",
    "  year={2019}\n",
    "}\n",
    "```\n",
    "\"\"\"\n",
    "\n",
    "\n",
    "class GraphRec(nn.Module):\n",
    "\n",
    "    def __init__(self, enc_u, enc_v_history, r2e):\n",
    "        super(GraphRec, self).__init__()\n",
    "        self.enc_u = enc_u\n",
    "        self.enc_v_history = enc_v_history\n",
    "        self.embed_dim = enc_u.embed_dim\n",
    "\n",
    "        self.w_ur1 = nn.Linear(self.embed_dim, self.embed_dim)\n",
    "        self.w_ur2 = nn.Linear(self.embed_dim, self.embed_dim)\n",
    "        self.w_vr1 = nn.Linear(self.embed_dim, self.embed_dim)\n",
    "        self.w_vr2 = nn.Linear(self.embed_dim, self.embed_dim)\n",
    "        self.w_uv1 = nn.Linear(self.embed_dim * 2, self.embed_dim)\n",
    "        self.w_uv2 = nn.Linear(self.embed_dim, 16)\n",
    "        self.w_uv3 = nn.Linear(16, 1)\n",
    "        self.r2e = r2e\n",
    "        self.bn1 = nn.BatchNorm1d(self.embed_dim, momentum=0.5)\n",
    "        self.bn2 = nn.BatchNorm1d(self.embed_dim, momentum=0.5)\n",
    "        self.bn3 = nn.BatchNorm1d(self.embed_dim, momentum=0.5)\n",
    "        self.bn4 = nn.BatchNorm1d(16, momentum=0.5)\n",
    "        self.criterion = nn.MSELoss()\n",
    "\n",
    "    def forward(self, nodes_u, nodes_v):\n",
    "        embeds_u = self.enc_u(nodes_u)\n",
    "        #print(nodes_v)\n",
    "        embeds_v = self.enc_v_history(nodes_v)\n",
    "\n",
    "        x_u = F.relu(self.bn1(self.w_ur1(embeds_u)))\n",
    "        x_u = F.dropout(x_u, training=self.training)\n",
    "        x_u = self.w_ur2(x_u)\n",
    "        x_v = F.relu(self.bn2(self.w_vr1(embeds_v)))\n",
    "        x_v = F.dropout(x_v, training=self.training)\n",
    "        x_v = self.w_vr2(x_v)\n",
    "\n",
    "        x_uv = torch.cat((x_u, x_v), 1)\n",
    "        x = F.relu(self.bn3(self.w_uv1(x_uv)))\n",
    "        x = F.dropout(x, training=self.training)\n",
    "        x = F.relu(self.bn4(self.w_uv2(x)))\n",
    "        x = F.dropout(x, training=self.training)\n",
    "        scores = self.w_uv3(x)\n",
    "        return scores.squeeze()\n",
    "\n",
    "    def loss(self, nodes_u, nodes_v, labels_list):\n",
    "        scores = self.forward(nodes_u, nodes_v)\n",
    "        return self.criterion(scores, labels_list)\n",
    "\n",
    "\n",
    "def train(model, device, train_loader, test_loader, optimizer, epoch, best_rmse, best_mae):\n",
    "    model.train()\n",
    "    running_loss = 0.0\n",
    "    for i, data in enumerate(train_loader, 0):\n",
    "        batch_nodes_u, batch_nodes_v, labels_list = data\n",
    "        optimizer.zero_grad()\n",
    "        loss = model.loss(batch_nodes_u.to(device), batch_nodes_v.to(device), labels_list.to(device))\n",
    "        loss.backward(retain_graph=True)\n",
    "        optimizer.step()\n",
    "        running_loss += loss.item()\n",
    "        if i % 100 == 0:\n",
    "            rmse, mae = test(graphrec, device, test_loader)\n",
    "            print('[%d, %5d] loss: %.3f, The best rmse/mae: %.6f / %.6f' % (\n",
    "                epoch, i, running_loss / 100, rmse, mae))\n",
    "            running_loss = 0.0\n",
    "    return 0\n",
    "\n",
    "\n",
    "def test(model, device, test_loader):\n",
    "    model.eval()\n",
    "    tmp_pred = []\n",
    "    target = []\n",
    "    with torch.no_grad():\n",
    "        for test_u, test_v, tmp_target in test_loader:\n",
    "            test_u, test_v, tmp_target = test_u.to(device), test_v.to(device), tmp_target.to(device)\n",
    "            val_output = model.forward(test_u, test_v)\n",
    "            tmp_pred.append(list(val_output.data.cpu().numpy()))\n",
    "            target.append(list(tmp_target.data.cpu().numpy()))\n",
    "    tmp_pred = np.array(sum(tmp_pred, []))\n",
    "    target = np.array(sum(target, []))\n",
    "    expected_rmse = sqrt(mean_squared_error(tmp_pred, target))\n",
    "    mae = mean_absolute_error(tmp_pred, target)\n",
    "    return expected_rmse, mae"
   ]
  },
  {
   "cell_type": "code",
   "execution_count": null,
   "metadata": {},
   "outputs": [
    {
     "name": "stdout",
     "output_type": "stream",
     "text": [
      "[1,     0] loss: 0.106, The best rmse/mae: 3.306850 / 3.082040\n",
      "[1,   100] loss: 5.297, The best rmse/mae: 1.004229 / 0.734379\n",
      "[1,   200] loss: 0.660, The best rmse/mae: 0.957447 / 0.729506\n",
      "[1,   300] loss: 0.617, The best rmse/mae: 0.951123 / 0.744298\n",
      "[1,   400] loss: 0.616, The best rmse/mae: 0.935782 / 0.704204\n",
      "[1,   500] loss: 0.610, The best rmse/mae: 0.934107 / 0.714491\n",
      "[1,   600] loss: 0.589, The best rmse/mae: 0.934406 / 0.704859\n",
      "[1,   700] loss: 0.591, The best rmse/mae: 0.941145 / 0.732113\n",
      "[1,   800] loss: 0.572, The best rmse/mae: 0.938626 / 0.696559\n",
      "[1,   900] loss: 0.589, The best rmse/mae: 0.934618 / 0.721407\n",
      "[1,  1000] loss: 0.605, The best rmse/mae: 0.931418 / 0.709770\n",
      "[1,  1100] loss: 0.608, The best rmse/mae: 0.929905 / 0.701088\n",
      "[1,  1200] loss: 0.570, The best rmse/mae: 0.935730 / 0.728892\n",
      "[1,  1300] loss: 0.590, The best rmse/mae: 0.953522 / 0.759080\n",
      "[1,  1400] loss: 0.615, The best rmse/mae: 0.942717 / 0.695764\n",
      "[1,  1500] loss: 0.582, The best rmse/mae: 0.931991 / 0.717811\n",
      "[1,  1600] loss: 0.604, The best rmse/mae: 0.928027 / 0.705221\n"
     ]
    }
   ],
   "source": [
    "class Arg():\n",
    "    def __init__(self):\n",
    "        pass\n",
    "args = Arg()   \n",
    "\n",
    "\"\"\"\n",
    "parser = argparse.ArgumentParser(description='Social Recommendation: GraphRec model')\n",
    "parser.add_argument('--batch_size', type=int, default=128, metavar='N', help='input batch size for training')\n",
    "parser.add_argument('--embed_dim', type=int, default=64, metavar='N', help='embedding size')\n",
    "parser.add_argument('--lr', type=float, default=0.001, metavar='LR', help='learning rate')\n",
    "parser.add_argument('--test_batch_size', type=int, default=1000, metavar='N', help='input batch size for testing')\n",
    "parser.add_argument('--epochs', type=int, default=100, metavar='N', help='number of epochs to train')\n",
    "args = parser.parse_args()\n",
    "\"\"\"\n",
    "\n",
    "args.batch_size = 128\n",
    "args.embed_dim = 64\n",
    "args.lr = 0.0005\n",
    "args.test_batch_size = 256\n",
    "args.epochs = 6\n",
    "\"\"\"\n",
    "    'embed_dim': 64,\n",
    "    'lr' : 0.001,\n",
    "    'test_batch_size' : 1000,\n",
    "    'epochs' : 100\n",
    "}\"\"\"\n",
    "\n",
    "os.environ['CUDA_VISIBLE_DEVICES'] = '0'\n",
    "use_cuda = False\n",
    "#if torch.cuda.is_available():\n",
    "#    use_cuda = True\n",
    "device = torch.device(\"cuda\" if use_cuda else \"cpu\")\n",
    "\n",
    "embed_dim = args.embed_dim\n",
    "#dir_data = './data/toy_dataset'\n",
    "\n",
    "#path_data = dir_data + \".pickle\"\n",
    "#data_file = open(path_data, 'rb')\n",
    "#history_u_lists, history_ur_lists, history_v_lists, history_vr_lists, train_u, train_v, train_r, test_u, test_v, test_r, social_adj_lists, ratings_list = pickle.load(\n",
    "#    data_file)\n",
    "\"\"\"\n",
    "## toy dataset \n",
    "history_u_lists, history_ur_lists:  user's purchased history (item set in training set), and his/her rating score (dict)\n",
    "history_v_lists, history_vr_lists:  user set (in training set) who have interacted with the item, and rating score (dict)\n",
    "\n",
    "train_u, train_v, train_r: training_set (user, item, rating)\n",
    "test_u, test_v, test_r: testing set (user, item, rating)\n",
    "\n",
    "# please add the validation set\n",
    "\n",
    "social_adj_lists: user's connected neighborhoods\n",
    "ratings_list: rating value from 0.5 to 4.0 (8 opinion embeddings)\n",
    "\"\"\"\n",
    "\n",
    "trainset = torch.utils.data.TensorDataset(torch.LongTensor(train_u), torch.LongTensor(train_v),\n",
    "                                          torch.FloatTensor(train_r))\n",
    "testset = torch.utils.data.TensorDataset(torch.LongTensor(test_u), torch.LongTensor(test_v),\n",
    "                                         torch.FloatTensor(test_r))\n",
    "train_loader = torch.utils.data.DataLoader(trainset, batch_size=args.batch_size, shuffle=True)\n",
    "test_loader = torch.utils.data.DataLoader(testset, batch_size=args.test_batch_size, shuffle=True)\n",
    "num_users = history_u_lists.__len__()\n",
    "num_items = history_v_lists.__len__()\n",
    "num_ratings = ratings_list.__len__()\n",
    "\n",
    "u2e = nn.Embedding(num_users, embed_dim).to(device)\n",
    "v2e = nn.Embedding(num_items, embed_dim).to(device)\n",
    "r2e = nn.Embedding(num_ratings, embed_dim).to(device)\n",
    "\n",
    "# user feature\n",
    "# features: item * rating\n",
    "agg_u_history = UV_Aggregator(v2e, r2e, u2e, embed_dim, cuda=device, uv=True)\n",
    "enc_u_history = UV_Encoder(u2e, embed_dim, history_u_lists, history_ur_lists, agg_u_history, cuda=device, uv=True)\n",
    "# neighobrs\n",
    "agg_u_social = Social_Aggregator(lambda nodes: enc_u_history(nodes).t(), u2e, embed_dim, cuda=device)\n",
    "enc_u = Social_Encoder(lambda nodes: enc_u_history(nodes).t(), embed_dim, social_adj_lists, agg_u_social,\n",
    "                       base_model=enc_u_history, cuda=device)\n",
    "\n",
    "# item feature: user * rating\n",
    "agg_v_history = UV_Aggregator(v2e, r2e, u2e, embed_dim, cuda=device, uv=False)\n",
    "enc_v_history = UV_Encoder(v2e, embed_dim, history_v_lists, history_vr_lists, agg_v_history, cuda=device, uv=False)\n",
    "\n",
    "# model\n",
    "graphrec = GraphRec(enc_u, enc_v_history, r2e).to(device)\n",
    "\n",
    "\n",
    "#optimizer = torch.optim.RMSprop(graphrec.parameters(), lr=args.lr, alpha=0.9)\n",
    "optimizer = torch.optim.Adam(graphrec.parameters(), lr=args.lr)\n",
    "\n",
    "\n",
    "best_rmse = np.iinfo(np.int64).max\n",
    "best_mae = np.iinfo(np.int64).min\n",
    "endure_count = 0\n",
    "\n",
    "times_lst = []\n",
    "\n",
    "for epoch in range(1, args.epochs + 1):\n",
    "    \n",
    "    start_time = time()\n",
    "    train(graphrec, device, train_loader, test_loader, optimizer, epoch, best_rmse, best_mae)\n",
    "    expected_rmse, mae = test(graphrec, device, test_loader)\n",
    "    # please add the validation set to tune the hyper-parameters based on your datasets.\n",
    "\n",
    "    # early stopping (no validation set in toy dataset)\n",
    "    if best_rmse > expected_rmse:\n",
    "        best_rmse = expected_rmse\n",
    "        best_mae = mae\n",
    "        endure_count = 0\n",
    "    else:\n",
    "        endure_count += 1\n",
    "    \n",
    "    impl_time = time() - start_time\n",
    "    print(\"rmse: %.4f, mae:%.4f \" % (expected_rmse, mae))\n",
    "    print(\"ep {0} time: \".format(i), impl_time / 60.)\n",
    "    times_lst.append(impl_time)\n",
    "    if endure_count > 5:\n",
    "        break"
   ]
  },
  {
   "cell_type": "code",
   "execution_count": 35,
   "metadata": {},
   "outputs": [],
   "source": [
    "import gc"
   ]
  },
  {
   "cell_type": "code",
   "execution_count": null,
   "metadata": {},
   "outputs": [],
   "source": []
  },
  {
   "cell_type": "code",
   "execution_count": 36,
   "metadata": {},
   "outputs": [
    {
     "data": {
      "text/plain": [
       "0"
      ]
     },
     "execution_count": 36,
     "metadata": {},
     "output_type": "execute_result"
    }
   ],
   "source": [
    "gc.collect()"
   ]
  },
  {
   "cell_type": "code",
   "execution_count": 33,
   "metadata": {},
   "outputs": [],
   "source": [
    "from copy import deepcopy"
   ]
  },
  {
   "cell_type": "code",
   "execution_count": 34,
   "metadata": {},
   "outputs": [],
   "source": [
    "graphrec_1500 = deepcopy(graphrec)"
   ]
  },
  {
   "cell_type": "code",
   "execution_count": 32,
   "metadata": {},
   "outputs": [
    {
     "data": {
      "text/plain": [
       "(0.9400082413332418, 0.7444328)"
      ]
     },
     "execution_count": 32,
     "metadata": {},
     "output_type": "execute_result"
    }
   ],
   "source": [
    "test(graphrec, device, test_loader)"
   ]
  },
  {
   "cell_type": "code",
   "execution_count": 31,
   "metadata": {},
   "outputs": [
    {
     "data": {
      "text/plain": [
       "9223372036854775807"
      ]
     },
     "execution_count": 31,
     "metadata": {},
     "output_type": "execute_result"
    }
   ],
   "source": [
    "np.iinfo(np.int64).max"
   ]
  },
  {
   "cell_type": "code",
   "execution_count": 21,
   "metadata": {},
   "outputs": [],
   "source": [
    "%load_ext autoreload"
   ]
  },
  {
   "cell_type": "code",
   "execution_count": 22,
   "metadata": {},
   "outputs": [],
   "source": [
    "%autoreload 2"
   ]
  },
  {
   "cell_type": "code",
   "execution_count": null,
   "metadata": {},
   "outputs": [],
   "source": [
    "%reload_ext Social_Aggregator"
   ]
  },
  {
   "cell_type": "code",
   "execution_count": null,
   "metadata": {},
   "outputs": [],
   "source": []
  }
 ],
 "metadata": {
  "kernelspec": {
   "display_name": "Python 3",
   "language": "python",
   "name": "python3"
  },
  "language_info": {
   "codemirror_mode": {
    "name": "ipython",
    "version": 3
   },
   "file_extension": ".py",
   "mimetype": "text/x-python",
   "name": "python",
   "nbconvert_exporter": "python",
   "pygments_lexer": "ipython3",
   "version": "3.6.5"
  }
 },
 "nbformat": 4,
 "nbformat_minor": 2
}
